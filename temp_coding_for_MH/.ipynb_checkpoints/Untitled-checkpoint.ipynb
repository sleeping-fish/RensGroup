{
 "cells": [
  {
   "cell_type": "code",
   "execution_count": 2,
   "metadata": {},
   "outputs": [],
   "source": [
    "import pandas as pd\n",
    "import numpy as np"
   ]
  },
  {
   "cell_type": "code",
   "execution_count": 3,
   "metadata": {},
   "outputs": [],
   "source": [
    "def load_data(path):\n",
    "    df = pd.read_csv(path,delimiter='\\t')\n",
    "    df.drop(columns=['label'], inplace=True)\n",
    "    temp = df.to_numpy()\n",
    "    dataSet = np.zeros((48,3,3))\n",
    "    temp2 = np.zeros((3,3))\n",
    "    for i in range(48):\n",
    "        temp2[0][1] = temp[i][1]\n",
    "        temp2[0][2] = temp[i][2]\n",
    "        temp2[1][2] = temp[i][4]\n",
    "        tempDig = np.diag([temp[i][0], temp[i][3], temp[i][5]])\n",
    "        temp2 += tempDig\n",
    "        temp2 += temp2.T - np.diag(temp2.diagonal())\n",
    "        dataSet[i] = temp2\n",
    "    return dataSet"
   ]
  },
  {
   "cell_type": "code",
   "execution_count": 79,
   "metadata": {},
   "outputs": [],
   "source": [
    "def process(std1, std2, obj_cross):\n",
    "    std_cross = np.cross(std1, std2).reshape(1,-1)\n",
    "    \n",
    "    trans = np.linalg.pinv(std_cross) * obj_cross\n",
    "    return trans"
   ]
  },
  {
   "cell_type": "code",
   "execution_count": null,
   "metadata": {},
   "outputs": [],
   "source": [
    "def main():\n",
    "    \n",
    "    path = './data.txt'\n",
    "    std1 = np.array([1.23, -0.564, 0.501])\n",
    "    std2 = np.array([1.241, 0.745, 0.395])\n",
    "    obj_cross = np.array([-0.18900194,1.40389951,-0.94089792]).reshape(1,-1)\n",
    "    \n",
    "    dataSet = loadData(path)\n",
    "    trans = process(std1, std2, obj_cross)\n",
    "    print(dataSet @ trans)   "
   ]
  },
  {
   "cell_type": "code",
   "execution_count": null,
   "metadata": {},
   "outputs": [],
   "source": []
  }
 ],
 "metadata": {
  "kernelspec": {
   "display_name": "Python 3",
   "language": "python",
   "name": "python3"
  },
  "language_info": {
   "codemirror_mode": {
    "name": "ipython",
    "version": 3
   },
   "file_extension": ".py",
   "mimetype": "text/x-python",
   "name": "python",
   "nbconvert_exporter": "python",
   "pygments_lexer": "ipython3",
   "version": "3.7.6"
  }
 },
 "nbformat": 4,
 "nbformat_minor": 4
}
