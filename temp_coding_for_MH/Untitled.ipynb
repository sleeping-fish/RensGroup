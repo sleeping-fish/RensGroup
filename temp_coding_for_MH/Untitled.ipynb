{
 "cells": [
  {
   "cell_type": "code",
   "execution_count": 1,
   "metadata": {},
   "outputs": [],
   "source": [
    "import pandas as pd\n",
    "import numpy as np"
   ]
  },
  {
   "cell_type": "code",
   "execution_count": 13,
   "metadata": {},
   "outputs": [],
   "source": [
    "def loadData(path):\n",
    "    df = pd.read_csv(path,delimiter='\\t')\n",
    "    labels = df.label\n",
    "    df.drop(columns=['label'], inplace=True)\n",
    "    data = df.to_numpy()\n",
    "    return data, labels"
   ]
  },
  {
   "cell_type": "code",
   "execution_count": 14,
   "metadata": {},
   "outputs": [],
   "source": [
    "def SymMatrix(data):\n",
    "    matrixSet = np.zeros((48,3,3))\n",
    "    temp2 = np.zeros((3,3))\n",
    "    for i in range(data.shape[0]):\n",
    "        temp2[0][1] = temp[i][1]\n",
    "        temp2[0][2] = temp[i][2]\n",
    "        temp2[1][2] = temp[i][4]\n",
    "        tempDig = np.diag([temp[i][0], temp[i][3], temp[i][5]])\n",
    "        temp2 += tempDig\n",
    "        temp2 += temp2.T - np.diag(temp2.diagonal())\n",
    "        matrixSet[i] = temp2\n",
    "    return matrixSet"
   ]
  },
  {
   "cell_type": "code",
   "execution_count": 122,
   "metadata": {},
   "outputs": [],
   "source": [
    "def calTrans(std, obj, w):\n",
    "    \n",
    "    std_cross = np.cross(std[0], std[1]).reshape(-1,1)\n",
    "    obj_cross = np.cross(obj[0], obj[1]).reshape(-1,1)\n",
    "    \n",
    "    trans_v1 = obj[0].reshape(-1,1) @ np.linalg.pinv(std[0].reshape(-1,1))\n",
    "    trans_v2 = obj[1].reshape(-1,1) @ np.linalg.pinv(std[1].reshape(-1,1))\n",
    "    trans_cross = obj_cross @ np.linalg.pinv(std_cross)\n",
    "    trans_avg =  w[0] * trans_v1 +w[1] * trans_v2 + w[2] * trans_cross \n",
    "    \n",
    "    err_v1 = (trans_v1 @ std[0].reshape(-1,1) - obj[0]).sum()\n",
    "    err_v2 = (trans_v1 @ std[1].reshape(-1,1) - obj[1]).sum()\n",
    "    err_cross = (trans_avg @ std_cross - obj_cross).sum()\n",
    "    \n",
    "    print('trans_v1=\\n{}\\ntrans_v2=\\n{}\\ntrans_cross=\\n{}'.format(trans_v1,trans_v2,trans_cross))\n",
    "    \n",
    "    print('v1误差={}\\nv2向量误差={}\\n法向量误差={}'.format(err_v1, err_v2, err_cross))\n",
    "    "
   ]
  },
  {
   "cell_type": "code",
   "execution_count": 123,
   "metadata": {},
   "outputs": [],
   "source": [
    "std = np.array([[1.23, -0.564, 0.501], [1.241, 0.745, 0.395]])\n",
    "obj = np.array([[-1.0700016, -0.63999939,-0.73999786],[-1.42000008, 0.02999878, 0.33000183]])\n",
    "# 分别是向量1和向量2"
   ]
  },
  {
   "cell_type": "code",
   "execution_count": 124,
   "metadata": {},
   "outputs": [
    {
     "name": "stdout",
     "output_type": "stream",
     "text": [
      "trans_v1=\n",
      "[[-0.63213442  0.28985676 -0.25747914]\n",
      " [-0.37809817  0.17337184 -0.15400584]\n",
      " [-0.43717516  0.2004608  -0.17806891]]\n",
      "trans_v2=\n",
      "[[-0.78281544 -0.46994158 -0.24916366]\n",
      " [ 0.01653768  0.00992794  0.00526381]\n",
      " [ 0.1819229   0.10921238  0.05790455]]\n",
      "trans_cross=\n",
      "[[ 0.03772533 -0.00860121 -0.10230188]\n",
      " [-0.28022241  0.06388944  0.75989464]\n",
      " [ 0.18780596 -0.04281891 -0.50928381]]\n",
      "v1误差=1.6653345369377348e-15\n",
      "v2向量误差=-1.4239761637864885\n",
      "法向量误差=-0.26029965990806103\n"
     ]
    }
   ],
   "source": [
    "calTrans(std, obj, [0.85, 0.1, 0.05])"
   ]
  }
 ],
 "metadata": {
  "kernelspec": {
   "display_name": "Python 3",
   "language": "python",
   "name": "python3"
  },
  "language_info": {
   "codemirror_mode": {
    "name": "ipython",
    "version": 3
   },
   "file_extension": ".py",
   "mimetype": "text/x-python",
   "name": "python",
   "nbconvert_exporter": "python",
   "pygments_lexer": "ipython3",
   "version": "3.8.3"
  }
 },
 "nbformat": 4,
 "nbformat_minor": 4
}
